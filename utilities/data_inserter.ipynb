{
 "cells": [
  {
   "cell_type": "code",
   "execution_count": null,
   "metadata": {},
   "outputs": [],
   "source": [
    "import psycopg2\n",
    "conn_string = \"host='localhost' dbname='software' user='postgres' password='1234'\""
   ]
  },
  {
   "cell_type": "code",
   "execution_count": null,
   "metadata": {},
   "outputs": [],
   "source": [
    "insertar_peliculas = \"\"\"\n",
    "INSERT INTO peliculas(nombre, duracion, calificacion, idioma)\n",
    "VALUES (\n",
    "\tmd5(random()::text),\n",
    "\trandom()*(3-1+1)+1,\n",
    "\tfloor(random()*(10-1+1))+1,\n",
    "\tmd5(random()::text)\n",
    ");\n",
    "\"\"\"\n",
    "insertar_salas = \"\"\"\n",
    "INSERT INTO salas(capacidad, numero_sala)\n",
    "VALUES (\n",
    "\tfloor(random()*(100-50+1))+50,\n",
    "\tfloor(random()*(1000-1+1))+1\n",
    ");\n",
    "\"\"\"\n",
    "insertar_funciones = \"\"\"\n",
    "INSERT INTO funciones(sala_id, pelicula_id, dia, hora)\n",
    "VALUES (\n",
    "\t(\n",
    "\t\tSELECT * FROM (SELECT id FROM salas ORDER BY random()) AS q LIMIT 1\n",
    "\t),\n",
    "\t(\n",
    "\t\tSELECT * FROM (SELECT id FROM peliculas ORDER BY random()) AS q LIMIT 1\n",
    "\t),\n",
    "\tfloor(random()*(31-1+1))+1,\n",
    "\tfloor(random()*(24-0+1))+0\n",
    ");\n",
    "\"\"\"\n",
    "insertar_entradas = \"\"\"\n",
    "INSERT INTO entrada(funcion_id, precio, fecha, hora)\n",
    "VALUES (\n",
    "\t(\n",
    "\t\tSELECT * FROM (SELECT id FROM funciones ORDER BY random()) AS q LIMIT 1\n",
    "\t),\n",
    "\trandom()*(120-10+1)+10,\n",
    "\t(\n",
    "\t\tSELECT TIMESTAMP '2014-01-10 20:00:00' +\n",
    "       \trandom() * (TIMESTAMP '2014-01-20 20:00:00' -\n",
    "                   TIMESTAMP '2014-01-10 10:00:00')\n",
    "   ),\n",
    "    floor(random()*(24-0+1))+0\n",
    ");\n",
    "\"\"\""
   ]
  },
  {
   "cell_type": "code",
   "execution_count": null,
   "metadata": {},
   "outputs": [],
   "source": [
    "def querier(query):\n",
    "    conn = None\n",
    "    try:\n",
    "        conn = psycopg2.connect(conn_string)\n",
    "        cur = conn.cursor()\n",
    "        cur.execute(query)\n",
    "        conn.commit()\n",
    "        cur.close()\n",
    "    except (Exception, psycopg2.DatabaseError) as error:\n",
    "        print(error)\n",
    "    finally:\n",
    "        if conn is not None:\n",
    "            conn.close()"
   ]
  },
  {
   "cell_type": "code",
   "execution_count": 9,
   "metadata": {},
   "outputs": [],
   "source": [
    "insertar_elementos = \"\"\"\n",
    "    INSERT INTO elemento(uuid) VALUES(\n",
    "        md5(random()::text || clock_timestamp()::text)::uuid\n",
    "    );\n",
    "\"\"\""
   ]
  },
  {
   "cell_type": "code",
   "execution_count": 10,
   "metadata": {},
   "outputs": [],
   "source": [
    "for _ in range(10):\n",
    "    querier(insertar_elementos)"
   ]
  },
  {
   "cell_type": "code",
   "execution_count": 11,
   "metadata": {},
   "outputs": [],
   "source": [
    "# ROWS = 10\n",
    "# for _ in range(ROWS):\n",
    "#     querier(insertar_peliculas)"
   ]
  }
 ],
 "metadata": {
  "kernelspec": {
   "display_name": "Python 3.9.5 ('venv': venv)",
   "language": "python",
   "name": "python3"
  },
  "language_info": {
   "codemirror_mode": {
    "name": "ipython",
    "version": 3
   },
   "file_extension": ".py",
   "mimetype": "text/x-python",
   "name": "python",
   "nbconvert_exporter": "python",
   "pygments_lexer": "ipython3",
   "version": "3.9.5"
  },
  "orig_nbformat": 4,
  "vscode": {
   "interpreter": {
    "hash": "022e2d68daff976afbbf1f0fdb84c757ae440ba9b0f18b181ccbe123e54a2e53"
   }
  }
 },
 "nbformat": 4,
 "nbformat_minor": 2
}

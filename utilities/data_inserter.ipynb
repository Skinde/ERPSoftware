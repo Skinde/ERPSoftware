{
 "cells": [
  {
   "cell_type": "code",
   "execution_count": 1,
   "metadata": {},
   "outputs": [],
   "source": [
    "import psycopg2\n",
    "conn_string = \"host='localhost' dbname='software' user='postgres' password='1234'\""
   ]
  },
  {
   "cell_type": "code",
   "execution_count": 2,
   "metadata": {},
   "outputs": [],
   "source": [
    "def querier(query):\n",
    "    conn = None\n",
    "    try:\n",
    "        conn = psycopg2.connect(conn_string)\n",
    "        cur = conn.cursor()\n",
    "        cur.execute(query)\n",
    "        conn.commit()\n",
    "        cur.close()\n",
    "    except (Exception, psycopg2.DatabaseError) as error:\n",
    "        print(error)\n",
    "    finally:\n",
    "        if conn is not None:\n",
    "            conn.close()"
   ]
  },
  {
   "cell_type": "code",
   "execution_count": 9,
   "metadata": {},
   "outputs": [],
   "source": [
    "insertar_elementos = \"\"\"\n",
    "    INSERT INTO elemento(uuid) VALUES(\n",
    "        md5(random()::text || clock_timestamp()::text)::uuid\n",
    "    );\n",
    "\"\"\""
   ]
  },
  {
   "cell_type": "code",
   "execution_count": 10,
   "metadata": {},
   "outputs": [],
   "source": [
    "for _ in range(10):\n",
    "    querier(insertar_elementos)"
   ]
  },
  {
   "cell_type": "code",
   "execution_count": 3,
   "metadata": {},
   "outputs": [],
   "source": [
    "# https://stackoverflow.com/questions/5108876/kill-a-postgresql-session-connection\n",
    "q = \"\"\"\n",
    "SELECT \n",
    "    pg_terminate_backend(pid) \n",
    "FROM \n",
    "    pg_stat_activity \n",
    "WHERE \n",
    "    -- don't kill my own connection!\n",
    "    pid <> pg_backend_pid()\n",
    "    -- don't kill the connections to other databases\n",
    "    AND datname = 'software'\n",
    "    ;\n",
    "\"\"\"\n",
    "querier(q)"
   ]
  }
 ],
 "metadata": {
  "kernelspec": {
   "display_name": "Python 3.9.5 ('venv': venv)",
   "language": "python",
   "name": "python3"
  },
  "language_info": {
   "codemirror_mode": {
    "name": "ipython",
    "version": 3
   },
   "file_extension": ".py",
   "mimetype": "text/x-python",
   "name": "python",
   "nbconvert_exporter": "python",
   "pygments_lexer": "ipython3",
   "version": "3.9.5"
  },
  "orig_nbformat": 4,
  "vscode": {
   "interpreter": {
    "hash": "022e2d68daff976afbbf1f0fdb84c757ae440ba9b0f18b181ccbe123e54a2e53"
   }
  }
 },
 "nbformat": 4,
 "nbformat_minor": 2
}
